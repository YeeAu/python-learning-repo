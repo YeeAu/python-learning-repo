{
 "cells": [
  {
   "cell_type": "code",
   "execution_count": 3,
   "metadata": {},
   "outputs": [
    {
     "name": "stdout",
     "output_type": "stream",
     "text": [
      "4\n"
     ]
    }
   ],
   "source": [
    "x = 3\n",
    "y = 1\n",
    "z = x + y\n",
    "print(z)"
   ]
  },
  {
   "cell_type": "code",
   "execution_count": 4,
   "metadata": {},
   "outputs": [
    {
     "name": "stdout",
     "output_type": "stream",
     "text": [
      "3\n"
     ]
    }
   ],
   "source": [
    "i = 1\n",
    "j = 2\n",
    "print (i + j)"
   ]
  },
  {
   "cell_type": "code",
   "execution_count": 7,
   "metadata": {},
   "outputs": [
    {
     "name": "stdout",
     "output_type": "stream",
     "text": [
      "3\n"
     ]
    }
   ],
   "source": [
    "x = 3\n",
    "y = 1\n",
    "z = x * y\n",
    "print(z)"
   ]
  },
  {
   "cell_type": "code",
   "execution_count": 6,
   "metadata": {},
   "outputs": [
    {
     "name": "stdout",
     "output_type": "stream",
     "text": [
      "12.56\n"
     ]
    }
   ],
   "source": [
    "rad = 2\n",
    "pi = 3.14\n",
    "area = (pi * rad**2)\n",
    "print(area)"
   ]
  },
  {
   "cell_type": "code",
   "execution_count": 9,
   "metadata": {},
   "outputs": [
    {
     "name": "stdout",
     "output_type": "stream",
     "text": [
      "My name is Yee, and my job title is Intelligence Analyst.\n"
     ]
    }
   ],
   "source": [
    "name = \"Yee\"\n",
    "job_title = \"Intelligence Analyst\"\n",
    "name_job = f\"My name is {name}, and my job title is {job_title}.\"\n",
    "print(name_job)"
   ]
  },
  {
   "cell_type": "code",
   "execution_count": 1,
   "metadata": {},
   "outputs": [
    {
     "name": "stdout",
     "output_type": "stream",
     "text": [
      "dog\n",
      "cat\n",
      "racoon\n"
     ]
    }
   ],
   "source": [
    "slice_this_phrase = \"dog cat racoon\"\n",
    "animal_1 = slice_this_phrase[:3]\n",
    "animal_2 = slice_this_phrase[4:7]\n",
    "animal_3 = slice_this_phrase[-6:]\n",
    "\n",
    "print(animal_1)\n",
    "print(animal_2)\n",
    "print(animal_3)"
   ]
  },
  {
   "cell_type": "code",
   "execution_count": 1,
   "metadata": {},
   "outputs": [
    {
     "name": "stdout",
     "output_type": "stream",
     "text": [
      "<class 'dict'>\n"
     ]
    }
   ],
   "source": [
    "dict_1 = {}\n",
    "print(type(dict_1))"
   ]
  },
  {
   "cell_type": "code",
   "execution_count": null,
   "metadata": {},
   "outputs": [],
   "source": [
    "staff_member = {'Name':'Yee',\n",
    "                'Job title':'Teacher',\n",
    "                'Hours':'Too many',\n",
    "                'Salary':'10'}\n"
   ]
  },
  {
   "cell_type": "code",
   "execution_count": 10,
   "metadata": {},
   "outputs": [
    {
     "name": "stdout",
     "output_type": "stream",
     "text": [
      "{'McD': 'Burgers', 'KFC': ['wings', 'strips', 'corn', 'gravy'], 'pizza_hut': {'pizza': 5, 'chips': 2, 'bread': 1}, 'kebab shop': 'kebabs'}\n"
     ]
    }
   ],
   "source": [
    "restaurants = {'McD':'Burgers',\n",
    "               'KFC':['wings','strips','corn','gravy'],\n",
    "               'pizza_hut':{'pizza':5,\n",
    "                            'chips':2,\n",
    "                            'bread':1}}\n",
    "\n",
    "restaurants['kebab shop'] = 'kebabs'\n",
    "print(restaurants)"
   ]
  },
  {
   "cell_type": "code",
   "execution_count": 12,
   "metadata": {},
   "outputs": [
    {
     "name": "stdout",
     "output_type": "stream",
     "text": [
      "dict_keys(['McD', 'KFC', 'pizza_hut', 'kebab shop'])\n",
      "dict_values(['Burgers', ['wings', 'strips', 'corn', 'gravy'], {'pizza': 5, 'chips': 2, 'bread': 1}, 'kebabs'])\n",
      "dict_items([('McD', 'Burgers'), ('KFC', ['wings', 'strips', 'corn', 'gravy']), ('pizza_hut', {'pizza': 5, 'chips': 2, 'bread': 1}), ('kebab shop', 'kebabs')])\n",
      "True\n"
     ]
    }
   ],
   "source": [
    "print(restaurants.keys())\n",
    "print(restaurants.values())\n",
    "\n",
    "print(restaurants.items())\n",
    "\n",
    "print('McD' in restaurants)"
   ]
  },
  {
   "cell_type": "code",
   "execution_count": 2,
   "metadata": {},
   "outputs": [],
   "source": [
    "import pandas as pd\n",
    "\n",
    "filepath = 'https://raw.githubusercontent.com/data-to-insight/csc-validator-be-903/main/tests/fake_data/header.csv'\n",
    "\n",
    "header_fake = pd.read_csv(filepath)"
   ]
  },
  {
   "cell_type": "code",
   "execution_count": 7,
   "metadata": {},
   "outputs": [
    {
     "name": "stdout",
     "output_type": "stream",
     "text": [
      "    CHILD  SEX         DOB ETHNIC            UPN  MOTHER MC_DOB\n",
      "0  566910    2  27/03/2008   WROM  D051910639385     NaN    NaN\n",
      "1  384923    2  09/09/2011   REFU  L034811502612     NaN    NaN\n",
      "2  709901    1  14/02/2013   ABAN  Y021751958510     NaN    NaN\n",
      "3  550084    2  04/05/2008   AOTH  R095578985099     NaN    NaN\n",
      "4  710229    2  15/04/2002   REFU  Z095096287583     NaN    NaN\n",
      "5  733831    1  06/07/2013   WROM  Z005227500041     NaN    NaN\n",
      "6   69112    2  11/09/2010   ABAN  X089575916879     NaN    NaN\n",
      "7  853884    2  09/10/2004   WBRI  U096513817313     NaN    NaN\n",
      "8  634852    2  19/10/2006   WIRI  X019131453866     NaN    NaN\n",
      "9  512087    1  01/10/2003   MOTH  J091207487052     NaN    NaN\n",
      "       CHILD  SEX         DOB ETHNIC            UPN  MOTHER MC_DOB\n",
      "2665  199656    1  08/07/2009   WOTH  G006043737339     NaN    NaN\n",
      "2666  587124    1  14/10/2006   AOTH  X013739746473     NaN    NaN\n",
      "2667  558581    1  05/07/2001   MWBC  S048947751783     NaN    NaN\n",
      "2668  937984    2  08/05/2008   WROM  B072095547455     NaN    NaN\n",
      "2669  942735    2  27/10/2010   BCRB  V010957149459     NaN    NaN\n",
      "2670  152113    1  06/06/2003   WBRI  K096794376750     NaN    NaN\n",
      "2671  481370    2  12/02/2008   BAFR  C014150452081     NaN    NaN\n",
      "2672  791577    1  28/05/2011   WBRI  Q009369089812     NaN    NaN\n",
      "2673  238470    1  21/11/2013   AIND  P095222532769     NaN    NaN\n",
      "2674  437361    1  15/12/2012   WROM  G018001328504     NaN    NaN\n",
      "<class 'pandas.core.frame.DataFrame'>\n",
      "RangeIndex: 2675 entries, 0 to 2674\n",
      "Data columns (total 7 columns):\n",
      " #   Column  Non-Null Count  Dtype  \n",
      "---  ------  --------------  -----  \n",
      " 0   CHILD   2675 non-null   int64  \n",
      " 1   SEX     2675 non-null   int64  \n",
      " 2   DOB     2675 non-null   object \n",
      " 3   ETHNIC  2675 non-null   object \n",
      " 4   UPN     2675 non-null   object \n",
      " 5   MOTHER  1 non-null      float64\n",
      " 6   MC_DOB  1 non-null      object \n",
      "dtypes: float64(1), int64(2), object(4)\n",
      "memory usage: 146.4+ KB\n",
      "None\n"
     ]
    }
   ],
   "source": [
    "print(header_fake.head(10))\n",
    "print(header_fake.tail(10))\n",
    "print(header_fake.info())\n",
    "# print(type(header_fake))"
   ]
  },
  {
   "cell_type": "code",
   "execution_count": 4,
   "metadata": {},
   "outputs": [
    {
     "name": "stdout",
     "output_type": "stream",
     "text": [
      "   col1 col2 col3\n",
      "0     1    A  foo\n",
      "1     2    B  bar\n",
      "2     3    C  baz\n"
     ]
    }
   ],
   "source": [
    "# dict of list\n",
    "d_1 = {'col1':[1, 2, 3],\n",
    "       'col2':['A', 'B', 'C'],\n",
    "       'col3':['foo', 'bar', 'baz']}\n",
    "\n",
    "df_1 = pd.DataFrame(d_1)\n",
    "print(df_1)\n",
    "\n"
   ]
  },
  {
   "cell_type": "code",
   "execution_count": 1,
   "metadata": {},
   "outputs": [
    {
     "ename": "NameError",
     "evalue": "name 'pd' is not defined",
     "output_type": "error",
     "traceback": [
      "\u001b[0;31m---------------------------------------------------------------------------\u001b[0m",
      "\u001b[0;31mNameError\u001b[0m                                 Traceback (most recent call last)",
      "Cell \u001b[0;32mIn[1], line 2\u001b[0m\n\u001b[1;32m      1\u001b[0m \u001b[38;5;66;03m# list of dicts\u001b[39;00m\n\u001b[0;32m----> 2\u001b[0m emp_list \u001b[38;5;241m=\u001b[39m \u001b[43mpd\u001b[49m\u001b[38;5;241m.\u001b[39mDataFrame([\n\u001b[1;32m      3\u001b[0m     {\u001b[38;5;124m'\u001b[39m\u001b[38;5;124mfirst_name\u001b[39m\u001b[38;5;124m'\u001b[39m:\u001b[38;5;124m'\u001b[39m\u001b[38;5;124mJohn\u001b[39m\u001b[38;5;124m'\u001b[39m,\n\u001b[1;32m      4\u001b[0m      \u001b[38;5;124m'\u001b[39m\u001b[38;5;124msurname\u001b[39m\u001b[38;5;124m'\u001b[39m:\u001b[38;5;124m'\u001b[39m\u001b[38;5;124mSmith\u001b[39m\u001b[38;5;124m'\u001b[39m,\n\u001b[1;32m      5\u001b[0m      \u001b[38;5;124m'\u001b[39m\u001b[38;5;124msalary\u001b[39m\u001b[38;5;124m'\u001b[39m:\u001b[38;5;124m'\u001b[39m\u001b[38;5;124m1000\u001b[39m\u001b[38;5;124m'\u001b[39m,\n\u001b[1;32m      6\u001b[0m      \u001b[38;5;124m'\u001b[39m\u001b[38;5;124mjob_title\u001b[39m\u001b[38;5;124m'\u001b[39m:\u001b[38;5;124m'\u001b[39m\u001b[38;5;124mAdministrator\u001b[39m\u001b[38;5;124m'\u001b[39m},\n\u001b[1;32m      7\u001b[0m      {\u001b[38;5;124m'\u001b[39m\u001b[38;5;124mfirst_name\u001b[39m\u001b[38;5;124m'\u001b[39m:\u001b[38;5;124m'\u001b[39m\u001b[38;5;124mTom\u001b[39m\u001b[38;5;124m'\u001b[39m,\n\u001b[1;32m      8\u001b[0m      \u001b[38;5;124m'\u001b[39m\u001b[38;5;124msurname\u001b[39m\u001b[38;5;124m'\u001b[39m:\u001b[38;5;124m'\u001b[39m\u001b[38;5;124mJones\u001b[39m\u001b[38;5;124m'\u001b[39m,\n\u001b[1;32m      9\u001b[0m      \u001b[38;5;124m'\u001b[39m\u001b[38;5;124msalary\u001b[39m\u001b[38;5;124m'\u001b[39m:\u001b[38;5;124m'\u001b[39m\u001b[38;5;124m1500\u001b[39m\u001b[38;5;124m'\u001b[39m,\n\u001b[1;32m     10\u001b[0m      \u001b[38;5;124m'\u001b[39m\u001b[38;5;124mjob_title\u001b[39m\u001b[38;5;124m'\u001b[39m:\u001b[38;5;124m'\u001b[39m\u001b[38;5;124mIT Guy\u001b[39m\u001b[38;5;124m'\u001b[39m},\n\u001b[1;32m     11\u001b[0m      {\u001b[38;5;124m'\u001b[39m\u001b[38;5;124mfirst_name\u001b[39m\u001b[38;5;124m'\u001b[39m:\u001b[38;5;124m'\u001b[39m\u001b[38;5;124mSarah\u001b[39m\u001b[38;5;124m'\u001b[39m,\n\u001b[1;32m     12\u001b[0m      \u001b[38;5;124m'\u001b[39m\u001b[38;5;124msurname\u001b[39m\u001b[38;5;124m'\u001b[39m:\u001b[38;5;124m'\u001b[39m\u001b[38;5;124mLottle\u001b[39m\u001b[38;5;124m'\u001b[39m,\n\u001b[1;32m     13\u001b[0m      \u001b[38;5;124m'\u001b[39m\u001b[38;5;124msalary\u001b[39m\u001b[38;5;124m'\u001b[39m:\u001b[38;5;124m'\u001b[39m\u001b[38;5;124m500\u001b[39m\u001b[38;5;124m'\u001b[39m,\n\u001b[1;32m     14\u001b[0m      \u001b[38;5;124m'\u001b[39m\u001b[38;5;124mjob_title\u001b[39m\u001b[38;5;124m'\u001b[39m:\u001b[38;5;124m'\u001b[39m\u001b[38;5;124mCook\u001b[39m\u001b[38;5;124m'\u001b[39m},\n\u001b[1;32m     15\u001b[0m      {\u001b[38;5;124m'\u001b[39m\u001b[38;5;124mfirst_name\u001b[39m\u001b[38;5;124m'\u001b[39m:\u001b[38;5;124m'\u001b[39m\u001b[38;5;124mKelly\u001b[39m\u001b[38;5;124m'\u001b[39m,\n\u001b[1;32m     16\u001b[0m      \u001b[38;5;124m'\u001b[39m\u001b[38;5;124msurname\u001b[39m\u001b[38;5;124m'\u001b[39m:\u001b[38;5;124m'\u001b[39m\u001b[38;5;124mTaylor\u001b[39m\u001b[38;5;124m'\u001b[39m,\n\u001b[1;32m     17\u001b[0m      \u001b[38;5;124m'\u001b[39m\u001b[38;5;124msalary\u001b[39m\u001b[38;5;124m'\u001b[39m:\u001b[38;5;124m'\u001b[39m\u001b[38;5;124m900\u001b[39m\u001b[38;5;124m'\u001b[39m,\n\u001b[1;32m     18\u001b[0m      \u001b[38;5;124m'\u001b[39m\u001b[38;5;124mjob_title\u001b[39m\u001b[38;5;124m'\u001b[39m:\u001b[38;5;124m'\u001b[39m\u001b[38;5;124mReceptionist\u001b[39m\u001b[38;5;124m'\u001b[39m},\n\u001b[1;32m     19\u001b[0m      {\u001b[38;5;124m'\u001b[39m\u001b[38;5;124mfirst_name\u001b[39m\u001b[38;5;124m'\u001b[39m:\u001b[38;5;124m'\u001b[39m\u001b[38;5;124mMark\u001b[39m\u001b[38;5;124m'\u001b[39m,\n\u001b[1;32m     20\u001b[0m      \u001b[38;5;124m'\u001b[39m\u001b[38;5;124msurname\u001b[39m\u001b[38;5;124m'\u001b[39m:\u001b[38;5;124m'\u001b[39m\u001b[38;5;124mHenry\u001b[39m\u001b[38;5;124m'\u001b[39m,\n\u001b[1;32m     21\u001b[0m      \u001b[38;5;124m'\u001b[39m\u001b[38;5;124msalary\u001b[39m\u001b[38;5;124m'\u001b[39m:\u001b[38;5;124m'\u001b[39m\u001b[38;5;124m2000\u001b[39m\u001b[38;5;124m'\u001b[39m,\n\u001b[1;32m     22\u001b[0m      \u001b[38;5;124m'\u001b[39m\u001b[38;5;124mjob_title\u001b[39m\u001b[38;5;124m'\u001b[39m:\u001b[38;5;124m'\u001b[39m\u001b[38;5;124mManager\u001b[39m\u001b[38;5;124m'\u001b[39m}\n\u001b[1;32m     23\u001b[0m ])\n\u001b[1;32m     25\u001b[0m emp_list[\u001b[38;5;124m'\u001b[39m\u001b[38;5;124msalary\u001b[39m\u001b[38;5;124m'\u001b[39m] \u001b[38;5;241m=\u001b[39m emp_list[\u001b[38;5;124m'\u001b[39m\u001b[38;5;124msalary\u001b[39m\u001b[38;5;124m'\u001b[39m]\u001b[38;5;241m.\u001b[39mastype(\u001b[38;5;124m'\u001b[39m\u001b[38;5;124mint\u001b[39m\u001b[38;5;124m'\u001b[39m)\n\u001b[1;32m     26\u001b[0m \u001b[38;5;66;03m# print(emp_list.info())\u001b[39;00m\n",
      "\u001b[0;31mNameError\u001b[0m: name 'pd' is not defined"
     ]
    }
   ],
   "source": [
    "# list of dicts\n",
    "emp_list = pd.DataFrame([\n",
    "    {'first_name':'John',\n",
    "     'surname':'Smith',\n",
    "     'salary':'1000',\n",
    "     'job_title':'Administrator'},\n",
    "     {'first_name':'Tom',\n",
    "     'surname':'Jones',\n",
    "     'salary':'1500',\n",
    "     'job_title':'IT Guy'},\n",
    "     {'first_name':'Sarah',\n",
    "     'surname':'Lottle',\n",
    "     'salary':'500',\n",
    "     'job_title':'Cook'},\n",
    "     {'first_name':'Kelly',\n",
    "     'surname':'Taylor',\n",
    "     'salary':'900',\n",
    "     'job_title':'Receptionist'},\n",
    "     {'first_name':'Mark',\n",
    "     'surname':'Henry',\n",
    "     'salary':'2000',\n",
    "     'job_title':'Manager'}\n",
    "])\n",
    "\n",
    "emp_list['salary'] = emp_list['salary'].astype('int')\n",
    "# print(emp_list.info())\n",
    "print(emp_list['salary'].dtypes)\n",
    "\n",
    "mean_salary = emp_list['salary'].mean()\n",
    "sum_salary = emp_list['salary'].sum()\n",
    "max_salary = emp_list['salary'].max()\n",
    "min_salary = emp_list['salary'].min()\n",
    "\n",
    "print(f'The mean salary is: {mean_salary}.')\n",
    "print(f\"The total of salaries is: {sum_salary}\")\n",
    "print(f'The max and min salaries respectively are {max_salary}, {min_salary}.')"
   ]
  },
  {
   "cell_type": "code",
   "execution_count": 87,
   "metadata": {},
   "outputs": [],
   "source": [
    "import pandas as pd\n"
   ]
  },
  {
   "cell_type": "code",
   "execution_count": 88,
   "metadata": {},
   "outputs": [
    {
     "name": "stdout",
     "output_type": "stream",
     "text": [
      "         LAchildID PersonBirthDate  GenderCurrent\n",
      "0  RND000215205141      2019-12-06              1\n",
      "1  RND000824303014      2011-04-27              9\n",
      "2  RND000750143123      2017-06-06              1\n",
      "3  RND000909164501      2014-10-03              0\n",
      "4  RND000382171815      2019-09-25              2\n"
     ]
    }
   ],
   "source": [
    "filename = r\"https://raw.githubusercontent.com/data-to-insight/ERN-sessions/main/data/ChildIdentifiers.csv\"\n",
    "\n",
    "df = pd.read_csv(filename)\n",
    "\n",
    "df = df[['LAchildID','PersonBirthDate','GenderCurrent']]\n",
    "\n",
    "print(df.head())"
   ]
  },
  {
   "cell_type": "code",
   "execution_count": 89,
   "metadata": {},
   "outputs": [
    {
     "name": "stdout",
     "output_type": "stream",
     "text": [
      "           LAchildID PersonBirthDate  GenderCurrent  Age\n",
      "0    RND000215205141      2019-12-06              1    4\n",
      "1    RND000824303014      2011-04-27              9   12\n",
      "2    RND000750143123      2017-06-06              1    6\n",
      "3    RND000909164501      2014-10-03              0    9\n",
      "4    RND000382171815      2019-09-25              2    4\n",
      "..               ...             ...            ...  ...\n",
      "327  RND000112711501      2010-07-07              2   13\n",
      "328  RND000513120794      2018-08-14              2    5\n",
      "329  RND000541643134      2021-12-09             51    2\n",
      "330  RND000404939452      2013-07-23              2   10\n",
      "331  RND000589802835      2021-10-25              9    2\n",
      "\n",
      "[332 rows x 4 columns]\n"
     ]
    }
   ],
   "source": [
    "import numpy as np\n",
    "\n",
    "\n",
    "df['PersonBirthDate'] = pd.to_datetime(df['PersonBirthDate'], format='%Y-%m-%d', errors='coerce')\n",
    "\n",
    "df['Age'] = pd.to_datetime('today').normalize() - df['PersonBirthDate']\n",
    "\n",
    "df['Age'] = (df['Age'] / pd.Timedelta('365 days')).astype('int')\n",
    "\n",
    "#df['Age of Data (Years)'] = (df['Age of Data (Years)'] / pd.Timedelta('365 days')).astype('int')\n",
    "print(df)"
   ]
  },
  {
   "cell_type": "code",
   "execution_count": 90,
   "metadata": {},
   "outputs": [
    {
     "name": "stdout",
     "output_type": "stream",
     "text": [
      "           LAchildID PersonBirthDate GenderCurrent  Age\n",
      "4    RND000382171815      2019-09-25        Female    4\n",
      "6    RND000852873211      2013-01-19        Female   11\n",
      "7    RND000756924984      2021-04-04        Female    2\n",
      "8    RND000783483042      2011-11-22        Female   12\n",
      "12   RND000078434730      2012-05-30        Female   11\n",
      "..               ...             ...           ...  ...\n",
      "325  RND000174662411      2005-08-08           NaN   18\n",
      "326  RND000033895249      2007-12-25       unknown   16\n",
      "327  RND000112711501      2010-07-07        Female   13\n",
      "328  RND000513120794      2018-08-14        Female    5\n",
      "330  RND000404939452      2013-07-23        Female   10\n",
      "\n",
      "[144 rows x 4 columns]\n"
     ]
    }
   ],
   "source": [
    "gender_map = {1:'Male',\n",
    "            2:'Female',\n",
    "            0:'unknown',\n",
    "            9:'unknown' \n",
    "                }\n",
    "df['GenderCurrent'] = df['GenderCurrent'].map(gender_map)\n",
    "\n",
    "# is_15_or_under_condition = df['Age'] <= 15\n",
    "# #print(over_18_condition)\n",
    "# sliced_df = df[df['Age'] > 18]\n",
    "# print(sliced_df)\n",
    "\n",
    "condition_1 = (df['Age'] <= 15) | (df['GenderCurrent'] == 'Male')\n",
    "df_1 = df[condition_1]\n",
    "\n",
    "condition_2 = (df['Age'] >= 15) | (df['GenderCurrent'] == 'Female')\n",
    "df_2 = df[condition_2]\n",
    "\n",
    "print(df_2)"
   ]
  }
 ],
 "metadata": {
  "kernelspec": {
   "display_name": "Python 3",
   "language": "python",
   "name": "python3"
  },
  "language_info": {
   "codemirror_mode": {
    "name": "ipython",
    "version": 3
   },
   "file_extension": ".py",
   "mimetype": "text/x-python",
   "name": "python",
   "nbconvert_exporter": "python",
   "pygments_lexer": "ipython3",
   "version": "3.10.13"
  }
 },
 "nbformat": 4,
 "nbformat_minor": 2
}
