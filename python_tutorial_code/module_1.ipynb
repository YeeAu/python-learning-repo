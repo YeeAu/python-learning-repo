{
 "cells": [
  {
   "cell_type": "code",
   "execution_count": 3,
   "metadata": {},
   "outputs": [
    {
     "name": "stdout",
     "output_type": "stream",
     "text": [
      "4\n"
     ]
    }
   ],
   "source": [
    "x = 3\n",
    "y = 1\n",
    "z = x + y\n",
    "print(z)"
   ]
  },
  {
   "cell_type": "code",
   "execution_count": 4,
   "metadata": {},
   "outputs": [
    {
     "name": "stdout",
     "output_type": "stream",
     "text": [
      "3\n"
     ]
    }
   ],
   "source": [
    "i = 1\n",
    "j = 2\n",
    "print (i + j)"
   ]
  },
  {
   "cell_type": "code",
   "execution_count": 7,
   "metadata": {},
   "outputs": [
    {
     "name": "stdout",
     "output_type": "stream",
     "text": [
      "3\n"
     ]
    }
   ],
   "source": [
    "x = 3\n",
    "y = 1\n",
    "z = x * y\n",
    "print(z)"
   ]
  },
  {
   "cell_type": "code",
   "execution_count": 6,
   "metadata": {},
   "outputs": [
    {
     "name": "stdout",
     "output_type": "stream",
     "text": [
      "12.56\n"
     ]
    }
   ],
   "source": [
    "rad = 2\n",
    "pi = 3.14\n",
    "area = (pi * rad**2)\n",
    "print(area)"
   ]
  },
  {
   "cell_type": "code",
   "execution_count": 9,
   "metadata": {},
   "outputs": [
    {
     "name": "stdout",
     "output_type": "stream",
     "text": [
      "My name is Yee, and my job title is Intelligence Analyst.\n"
     ]
    }
   ],
   "source": [
    "name = \"Yee\"\n",
    "job_title = \"Intelligence Analyst\"\n",
    "name_job = f\"My name is {name}, and my job title is {job_title}.\"\n",
    "print(name_job)"
   ]
  },
  {
   "cell_type": "code",
   "execution_count": 1,
   "metadata": {},
   "outputs": [
    {
     "name": "stdout",
     "output_type": "stream",
     "text": [
      "dog\n",
      "cat\n",
      "racoon\n"
     ]
    }
   ],
   "source": [
    "slice_this_phrase = \"dog cat racoon\"\n",
    "animal_1 = slice_this_phrase[:3]\n",
    "animal_2 = slice_this_phrase[4:7]\n",
    "animal_3 = slice_this_phrase[-6:]\n",
    "\n",
    "print(animal_1)\n",
    "print(animal_2)\n",
    "print(animal_3)"
   ]
  },
  {
   "cell_type": "code",
   "execution_count": 1,
   "metadata": {},
   "outputs": [
    {
     "name": "stdout",
     "output_type": "stream",
     "text": [
      "<class 'dict'>\n"
     ]
    }
   ],
   "source": [
    "dict_1 = {}\n",
    "print(type(dict_1))"
   ]
  },
  {
   "cell_type": "code",
   "execution_count": null,
   "metadata": {},
   "outputs": [],
   "source": [
    "staff_member = {'Name':'Yee',\n",
    "                'Job title':'Teacher',\n",
    "                'Hours':'Too many',\n",
    "                'Salary':'10'}\n"
   ]
  },
  {
   "cell_type": "code",
   "execution_count": 10,
   "metadata": {},
   "outputs": [
    {
     "name": "stdout",
     "output_type": "stream",
     "text": [
      "{'McD': 'Burgers', 'KFC': ['wings', 'strips', 'corn', 'gravy'], 'pizza_hut': {'pizza': 5, 'chips': 2, 'bread': 1}, 'kebab shop': 'kebabs'}\n"
     ]
    }
   ],
   "source": [
    "restaurants = {'McD':'Burgers',\n",
    "               'KFC':['wings','strips','corn','gravy'],\n",
    "               'pizza_hut':{'pizza':5,\n",
    "                            'chips':2,\n",
    "                            'bread':1}}\n",
    "\n",
    "restaurants['kebab shop'] = 'kebabs'\n",
    "print(restaurants)"
   ]
  },
  {
   "cell_type": "code",
   "execution_count": 12,
   "metadata": {},
   "outputs": [
    {
     "name": "stdout",
     "output_type": "stream",
     "text": [
      "dict_keys(['McD', 'KFC', 'pizza_hut', 'kebab shop'])\n",
      "dict_values(['Burgers', ['wings', 'strips', 'corn', 'gravy'], {'pizza': 5, 'chips': 2, 'bread': 1}, 'kebabs'])\n",
      "dict_items([('McD', 'Burgers'), ('KFC', ['wings', 'strips', 'corn', 'gravy']), ('pizza_hut', {'pizza': 5, 'chips': 2, 'bread': 1}), ('kebab shop', 'kebabs')])\n",
      "True\n"
     ]
    }
   ],
   "source": [
    "print(restaurants.keys())\n",
    "print(restaurants.values())\n",
    "\n",
    "print(restaurants.items())\n",
    "\n",
    "print('McD' in restaurants)"
   ]
  },
  {
   "cell_type": "code",
   "execution_count": 13,
   "metadata": {},
   "outputs": [],
   "source": [
    "import pandas as pd\n",
    "\n",
    "filepath = 'https://raw.githubusercontent.com/data-to-insight/csc-validator-be-903/main/tests/fake_data/header.csv'\n",
    "\n",
    "header_fake = pd.read_csv(filepath)"
   ]
  },
  {
   "cell_type": "code",
   "execution_count": 24,
   "metadata": {},
   "outputs": [
    {
     "name": "stdout",
     "output_type": "stream",
     "text": [
      "    CHILD  SEX         DOB ETHNIC            UPN  MOTHER MC_DOB\n",
      "0  566910    2  27/03/2008   WROM  D051910639385     NaN    NaN\n",
      "1  384923    2  09/09/2011   REFU  L034811502612     NaN    NaN\n",
      "2  709901    1  14/02/2013   ABAN  Y021751958510     NaN    NaN\n",
      "3  550084    2  04/05/2008   AOTH  R095578985099     NaN    NaN\n",
      "4  710229    2  15/04/2002   REFU  Z095096287583     NaN    NaN\n",
      "5  733831    1  06/07/2013   WROM  Z005227500041     NaN    NaN\n",
      "6   69112    2  11/09/2010   ABAN  X089575916879     NaN    NaN\n",
      "7  853884    2  09/10/2004   WBRI  U096513817313     NaN    NaN\n",
      "8  634852    2  19/10/2006   WIRI  X019131453866     NaN    NaN\n",
      "9  512087    1  01/10/2003   MOTH  J091207487052     NaN    NaN\n",
      "       CHILD  SEX         DOB ETHNIC            UPN  MOTHER MC_DOB\n",
      "2665  199656    1  08/07/2009   WOTH  G006043737339     NaN    NaN\n",
      "2666  587124    1  14/10/2006   AOTH  X013739746473     NaN    NaN\n",
      "2667  558581    1  05/07/2001   MWBC  S048947751783     NaN    NaN\n",
      "2668  937984    2  08/05/2008   WROM  B072095547455     NaN    NaN\n",
      "2669  942735    2  27/10/2010   BCRB  V010957149459     NaN    NaN\n",
      "2670  152113    1  06/06/2003   WBRI  K096794376750     NaN    NaN\n",
      "2671  481370    2  12/02/2008   BAFR  C014150452081     NaN    NaN\n",
      "2672  791577    1  28/05/2011   WBRI  Q009369089812     NaN    NaN\n",
      "2673  238470    1  21/11/2013   AIND  P095222532769     NaN    NaN\n",
      "2674  437361    1  15/12/2012   WROM  G018001328504     NaN    NaN\n",
      "<class 'pandas.core.frame.DataFrame'>\n",
      "RangeIndex: 2675 entries, 0 to 2674\n",
      "Data columns (total 7 columns):\n",
      " #   Column  Non-Null Count  Dtype  \n",
      "---  ------  --------------  -----  \n",
      " 0   CHILD   2675 non-null   int64  \n",
      " 1   SEX     2675 non-null   int64  \n",
      " 2   DOB     2675 non-null   object \n",
      " 3   ETHNIC  2675 non-null   object \n",
      " 4   UPN     2675 non-null   object \n",
      " 5   MOTHER  1 non-null      float64\n",
      " 6   MC_DOB  1 non-null      object \n",
      "dtypes: float64(1), int64(2), object(4)\n",
      "memory usage: 146.4+ KB\n",
      "None\n"
     ]
    }
   ],
   "source": [
    "print(header_fake.head(10))\n",
    "print(header_fake.tail(10))\n",
    "print(header_fake.info())"
   ]
  },
  {
   "cell_type": "code",
   "execution_count": 35,
   "metadata": {},
   "outputs": [
    {
     "name": "stdout",
     "output_type": "stream",
     "text": [
      "   col1 col2 col3\n",
      "0     1    A  foo\n",
      "1     2    B  bar\n",
      "2     3    C  baz\n"
     ]
    }
   ],
   "source": [
    "# dict of list\n",
    "d_1 = {'col1':[1, 2, 3],\n",
    "       'col2':['A', 'B', 'C'],\n",
    "       'col3':['foo', 'bar', 'baz']}\n",
    "\n",
    "df_1 = pd.DataFrame(d_1)\n",
    "print(df_1)\n",
    "\n"
   ]
  },
  {
   "cell_type": "code",
   "execution_count": 49,
   "metadata": {},
   "outputs": [
    {
     "name": "stdout",
     "output_type": "stream",
     "text": [
      "int64\n",
      "The mean salary is: 1180.0.\n",
      "The total of salaries is: 5900\n",
      "The max and min salaries respectively are 2000, 500.\n"
     ]
    }
   ],
   "source": [
    "# list of dicts\n",
    "emp_list = pd.DataFrame([\n",
    "    {'first_name':'John',\n",
    "     'surname':'Smith',\n",
    "     'salary':'1000',\n",
    "     'job_title':'Administrator'},\n",
    "     {'first_name':'Tom',\n",
    "     'surname':'Jones',\n",
    "     'salary':'1500',\n",
    "     'job_title':'IT Guy'},\n",
    "     {'first_name':'Sarah',\n",
    "     'surname':'Lottle',\n",
    "     'salary':'500',\n",
    "     'job_title':'Cook'},\n",
    "     {'first_name':'Kelly',\n",
    "     'surname':'Taylor',\n",
    "     'salary':'900',\n",
    "     'job_title':'Receptionist'},\n",
    "     {'first_name':'Mark',\n",
    "     'surname':'Henry',\n",
    "     'salary':'2000',\n",
    "     'job_title':'Manager'}\n",
    "])\n",
    "\n",
    "emp_list['salary'] = emp_list['salary'].astype('int')\n",
    "# print(emp_list.info())\n",
    "print(emp_list['salary'].dtypes)\n",
    "\n",
    "mean_salary = emp_list['salary'].mean()\n",
    "sum_salary = emp_list['salary'].sum()\n",
    "max_salary = emp_list['salary'].max()\n",
    "min_salary = emp_list['salary'].min()\n",
    "\n",
    "print(f'The mean salary is: {mean_salary}.')\n",
    "print(f\"The total of salaries is: {sum_salary}\")\n",
    "print(f'The max and min salaries respectively are {max_salary}, {min_salary}.')"
   ]
  }
 ],
 "metadata": {
  "kernelspec": {
   "display_name": "Python 3",
   "language": "python",
   "name": "python3"
  },
  "language_info": {
   "codemirror_mode": {
    "name": "ipython",
    "version": 3
   },
   "file_extension": ".py",
   "mimetype": "text/x-python",
   "name": "python",
   "nbconvert_exporter": "python",
   "pygments_lexer": "ipython3",
   "version": "3.10.13"
  }
 },
 "nbformat": 4,
 "nbformat_minor": 2
}
